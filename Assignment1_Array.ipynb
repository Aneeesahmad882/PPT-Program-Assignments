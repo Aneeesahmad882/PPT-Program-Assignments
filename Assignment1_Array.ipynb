{
 "cells": [
  {
   "cell_type": "code",
   "execution_count": 12,
   "id": "08ba70e3-8c60-4d0d-98f3-c4b2a0ebfa79",
   "metadata": {},
   "outputs": [
    {
     "name": "stdout",
     "output_type": "stream",
     "text": [
      "[0, 1]\n"
     ]
    }
   ],
   "source": [
    "#Answer1\n",
    "nums = [2, 7, 11, 15]\n",
    "target = 9\n",
    "result = twoSum(nums, target)\n",
    "def twoSum(nums, target):\n",
    "    \n",
    "    num_dict = {}\n",
    "\n",
    "    # Iterate through the array\n",
    "    for i, num in enumerate(nums):\n",
    "        # Calculate the complement of the current number\n",
    "        complement = target - num\n",
    "\n",
    "        # Check if the complement is in the dictionary\n",
    "        if complement in num_dict:\n",
    "            # Return the indices of the two numbers\n",
    "            return [num_dict[complement], i]\n",
    "\n",
    "        # Add the current number and its index to the dictionary\n",
    "        num_dict[num] = i\n",
    "\n",
    "    # If no solution is found, return an empty list\n",
    "    return []\n",
    "   \n",
    "print(result)"
   ]
  },
  {
   "cell_type": "code",
   "execution_count": 25,
   "id": "18cc67c6-07f1-49e7-b896-82c7e322c32e",
   "metadata": {},
   "outputs": [
    {
     "name": "stdout",
     "output_type": "stream",
     "text": [
      "2\n",
      "[2, 2, 3, 3]\n"
     ]
    }
   ],
   "source": [
    "#Answer2\n",
    "\n",
    "#To solve this problem in Python, you can use the two-pointer approach to remove the occurrences of val in the nums array in-place.\n",
    "#Here's an implementation that considers the given example:\n",
    "nums = [3, 2, 2, 3]\n",
    "val = 3\n",
    "def removeElement(nums, val):\n",
    "    # Initialize two pointers\n",
    "    left = 0\n",
    "    right = len(nums) - 1\n",
    "\n",
    "    # Iterate until the pointers meet or cross each other\n",
    "    while left <= right:\n",
    "        # Move the right pointer to the next non-val element\n",
    "        while left <= right and nums[right] == val:\n",
    "            right -= 1\n",
    "\n",
    "        # Check if the left pointer is pointing to a val element\n",
    "        if left <= right and nums[left] == val:\n",
    "            # Swap the left and right elements\n",
    "            nums[left], nums[right] = nums[right], nums[left]\n",
    "\n",
    "        # Move the left pointer to the next element\n",
    "        left += 1\n",
    "\n",
    "    # Return the number of elements that are not equal to val\n",
    "    return left\n",
    "\n",
    "k = removeElement(nums, val)\n",
    "print(k)  \n",
    "print(nums)"
   ]
  },
  {
   "cell_type": "code",
   "execution_count": 26,
   "id": "4ecb04fa-c3a0-4f1d-b392-32ae21a1f2d0",
   "metadata": {},
   "outputs": [
    {
     "name": "stdout",
     "output_type": "stream",
     "text": [
      "2\n"
     ]
    }
   ],
   "source": [
    "#Answer3\n",
    "#To solve this problem with a runtime complexity of O(log n), you can use the binary search algorithm.\n",
    "#Here's an implementation in Python:\n",
    "\n",
    "nums = [1, 3, 5, 6]\n",
    "target = 5\n",
    "\n",
    "def searchInsert(nums, target):\n",
    "    # Initialize pointers\n",
    "    left = 0\n",
    "    right = len(nums) - 1\n",
    "\n",
    "    # Binary search\n",
    "    while left <= right:\n",
    "        mid = left + (right - left) // 2  # Calculate the middle index\n",
    "\n",
    "        if nums[mid] == target:\n",
    "            return mid\n",
    "        elif nums[mid] < target:\n",
    "            left = mid + 1\n",
    "        else:\n",
    "            right = mid - 1\n",
    "\n",
    "    # If the target is not found, return the insertion position\n",
    "    return left\n",
    "\n",
    "index = searchInsert(nums, target)\n",
    "print(index)"
   ]
  },
  {
   "cell_type": "markdown",
   "id": "b46ae09d-38bd-4475-95ce-eaff308cbe35",
   "metadata": {},
   "source": [
    "#Answer4\n",
    "To increment a large integer represented as an integer array by one,\n",
    "you can start from the least significant digit (the rightmost digit) and \n",
    "work your way towards the most significant digit (the leftmost digit).\n",
    "Here's an implementation in Python:\n"
   ]
  },
  {
   "cell_type": "code",
   "execution_count": 32,
   "id": "f173f2b1-ded7-47e9-836d-460d80629d15",
   "metadata": {},
   "outputs": [
    {
     "name": "stdout",
     "output_type": "stream",
     "text": [
      "[1, 2, 4]\n"
     ]
    }
   ],
   "source": [
    "digits = [1, 2, 3]\n",
    "def plusOne(digits):\n",
    "    # Start from the least significant digit\n",
    "    for i in range(len(digits) - 1, -1, -1):\n",
    "        # Increment the current digit by one\n",
    "        digits[i] += 1\n",
    "\n",
    "        # Check if there is a carry\n",
    "        if digits[i] < 10:\n",
    "            # No carry, return the updated digits\n",
    "            return digits\n",
    "        else:\n",
    "            # Carry, set the current digit to 0 and continue to the next digit\n",
    "            digits[i] = 0\n",
    "\n",
    "    # If there is still a carry after iterating through all digits, insert a 1 at the beginning\n",
    "    digits.insert(0, 1)\n",
    "    return digits\n",
    "\n",
    "result = plusOne(digits)\n",
    "print(result)\n"
   ]
  },
  {
   "cell_type": "markdown",
   "id": "3a4c346d-2e0c-4056-9a44-500cd00d064f",
   "metadata": {},
   "source": [
    "#Answer5\n",
    "To merge two sorted arrays, nums1 and nums2, into a single array sorted in non-decreasing order and store the result in nums1,\n",
    "you can use a two-pointer approach. Here's the implementation in Python:"
   ]
  },
  {
   "cell_type": "code",
   "execution_count": 33,
   "id": "8c313129-df1c-4b94-b246-6f966480217d",
   "metadata": {},
   "outputs": [
    {
     "name": "stdout",
     "output_type": "stream",
     "text": [
      "[1, 2, 2, 3, 5, 6]\n"
     ]
    }
   ],
   "source": [
    "nums1 = [1, 2, 3, 0, 0, 0]  # Length m + n = 6, with m = 3\n",
    "m = 3\n",
    "nums2 = [2, 5, 6]  # Length n = 3\n",
    "n = 3\n",
    "\n",
    "def merge(nums1, m, nums2, n):\n",
    "    # Initialize pointers for nums1, nums2, and the merged array\n",
    "    p1 = m - 1\n",
    "    p2 = n - 1\n",
    "    p3 = m + n - 1\n",
    "\n",
    "    # Merge nums1 and nums2 starting from the end\n",
    "    while p1 >= 0 and p2 >= 0:\n",
    "        if nums1[p1] >= nums2[p2]:\n",
    "            nums1[p3] = nums1[p1]\n",
    "            p1 -= 1\n",
    "        else:\n",
    "            nums1[p3] = nums2[p2]\n",
    "            p2 -= 1\n",
    "        p3 -= 1\n",
    "\n",
    "    # Copy any remaining elements from nums2 to nums1\n",
    "    nums1[:p2 + 1] = nums2[:p2 + 1]\n",
    "\n",
    "merge(nums1, m, nums2, n)\n",
    "print(nums1) "
   ]
  },
  {
   "cell_type": "markdown",
   "id": "8a8a7390-31ff-4f58-a643-e3fb2a5a7ee4",
   "metadata": {},
   "source": [
    "#Answer6\n",
    "\n",
    "To determine if any value appears at least twice in an integer array nums with minimum time complexity,\n",
    "you can use the concept of a set. By converting the array into a set,\n",
    "you can efficiently check for duplicate elements in O(n) time complexity.\n",
    "\n",
    "Here's the implementation in Python:"
   ]
  },
  {
   "cell_type": "code",
   "execution_count": 34,
   "id": "f58bc52c-a363-46ea-b033-eb31cf99636b",
   "metadata": {},
   "outputs": [
    {
     "name": "stdout",
     "output_type": "stream",
     "text": [
      "True\n"
     ]
    }
   ],
   "source": [
    "nums = [1, 2, 3, 1]\n",
    "\n",
    "def containsDuplicate(nums):\n",
    "    return len(nums) != len(set(nums))\n",
    "\n",
    "result = containsDuplicate(nums)\n",
    "print(result)"
   ]
  },
  {
   "cell_type": "markdown",
   "id": "3063f04a-46c1-412f-b6b2-fe257b9da9bc",
   "metadata": {},
   "source": [
    "#Answer7\n",
    "To move all zeros to the end of an integer array nums while maintaining the relative order of the nonzero elements and achieving minimum time complexity, you can use a two-pointer approach. One pointer (p1) keeps track of the position where the next non-zero element should be placed, and another pointer (p2) iterates through the array to find non-zero elements to be placed at position p1.\n",
    "\n",
    "Here's the optimized implementation in Python:"
   ]
  },
  {
   "cell_type": "code",
   "execution_count": 40,
   "id": "e4b8e737-521a-4750-9f61-d039a3efa189",
   "metadata": {},
   "outputs": [
    {
     "name": "stdout",
     "output_type": "stream",
     "text": [
      "[1, 3, 12, 0, 0]\n"
     ]
    }
   ],
   "source": [
    "nums = [0, 1, 0, 3, 12]\n",
    "def moveZeroes(nums):\n",
    "    p1 = 0  # Pointer for placing non-zero elements\n",
    "\n",
    "    # Iterate through the array to find non-zero elements\n",
    "    for p2 in range(len(nums)):\n",
    "        if nums[p2] != 0:\n",
    "            # Swap the non-zero element with the element at position p1\n",
    "            nums[p1], nums[p2] = nums[p2], nums[p1]\n",
    "            p1 += 1\n",
    "moveZeroes(nums)\n",
    "print(nums)"
   ]
  },
  {
   "cell_type": "markdown",
   "id": "fdf25060-8edb-4a08-82db-33107e17fb97",
   "metadata": {},
   "source": [
    "#Answer8\n",
    "To find the number that occurs twice and the number that is missing in the given integer array nums with minimum time complexity,\n",
    "you can utilize the properties of sets and the mathematical formula for the sum of numbers from 1 to n.\n",
    "\n",
    "Here's an optimized implementation in Python:"
   ]
  },
  {
   "cell_type": "code",
   "execution_count": 44,
   "id": "915302c2-758c-49bb-bdcf-cc9feed2f948",
   "metadata": {},
   "outputs": [
    {
     "name": "stdout",
     "output_type": "stream",
     "text": [
      "(2, 3)\n"
     ]
    }
   ],
   "source": [
    "nums = [1,2,2,4]\n",
    "\n",
    "def FindErrorNums(nums):\n",
    "    n = len(nums)\n",
    "    expected_sum= n*(n+1)//2\n",
    "    actual_sum=sum(nums)\n",
    "    \n",
    "    duplicate = sum(nums)-sum(set(nums))\n",
    "    missing = expected_sum-actual_sum+duplicate\n",
    "    return(duplicate,missing)\n",
    "result = FindErrorNums(nums)\n",
    "print(result)"
   ]
  },
  {
   "cell_type": "code",
   "execution_count": null,
   "id": "ced6b8aa-7c16-42fb-8e9a-737d2268ae8c",
   "metadata": {},
   "outputs": [],
   "source": []
  }
 ],
 "metadata": {
  "kernelspec": {
   "display_name": "Python 3 (ipykernel)",
   "language": "python",
   "name": "python3"
  },
  "language_info": {
   "codemirror_mode": {
    "name": "ipython",
    "version": 3
   },
   "file_extension": ".py",
   "mimetype": "text/x-python",
   "name": "python",
   "nbconvert_exporter": "python",
   "pygments_lexer": "ipython3",
   "version": "3.10.8"
  }
 },
 "nbformat": 4,
 "nbformat_minor": 5
}
