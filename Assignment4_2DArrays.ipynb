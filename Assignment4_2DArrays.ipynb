{
 "cells": [
  {
   "cell_type": "markdown",
   "id": "833e3d30-d0c1-4b02-a869-a86079ec6f27",
   "metadata": {},
   "source": [
    "#Answer1\n",
    "To find the integers that appear in all three arrays while maintaining a sorted order, you can utilize a merge-like approach.\n",
    "Since the arrays are already sorted, you can compare elements from all three arrays simultaneously.\n",
    "Here's how you can implement it with minimum time and space complexity:"
   ]
  },
  {
   "cell_type": "code",
   "execution_count": 3,
   "id": "23f4c5b5-42c3-4038-b1e8-160ae681a548",
   "metadata": {},
   "outputs": [
    {
     "name": "stdout",
     "output_type": "stream",
     "text": [
      "[1, 5]\n"
     ]
    }
   ],
   "source": [
    "arr1 = [1,2,3,4,5]\n",
    "arr2 = [1,2,5,7,9]\n",
    "arr3 = [1,3,4,5,8]\n",
    "def find_common_elements(arr1, arr2, arr3):\n",
    "    ptr1, ptr2, ptr3 = 0, 0, 0\n",
    "    result = []\n",
    "    \n",
    "    while ptr1 < len(arr1) and ptr2 < len(arr2) and ptr3 < len(arr3):\n",
    "        if arr1[ptr1] == arr2[ptr2] == arr3[ptr3]:\n",
    "            result.append(arr1[ptr1])\n",
    "            ptr1 += 1\n",
    "            ptr2 += 1\n",
    "            ptr3 += 1\n",
    "        elif arr1[ptr1] <= arr2[ptr2] and arr1[ptr1] <= arr3[ptr3]:\n",
    "            ptr1 += 1\n",
    "        elif arr2[ptr2] <= arr1[ptr1] and arr2[ptr2] <= arr3[ptr3]:\n",
    "            ptr2 += 1\n",
    "        else:\n",
    "            ptr3 += 1\n",
    "    \n",
    "    return result\n",
    "result= find_common_elements(arr1, arr2, arr3)\n",
    "print(result)"
   ]
  },
  {
   "cell_type": "markdown",
   "id": "d2ecb039-57a1-4352-8b64-8e8440d6d872",
   "metadata": {},
   "source": [
    "#Answer2\n",
    "To find the distinct integers that are present in one array but not in the other with minimum time and space complexity,\n",
    "you can use two sets to track the unique values. Here's how you can solve it:"
   ]
  },
  {
   "cell_type": "code",
   "execution_count": 10,
   "id": "fb375319-2c2f-4226-a1c0-ef461264d3b9",
   "metadata": {},
   "outputs": [
    {
     "name": "stdout",
     "output_type": "stream",
     "text": [
      "[[1, 3], [4, 6]]\n"
     ]
    }
   ],
   "source": [
    "nums1 = [1,2,3]\n",
    "nums2 = [2,4,6]\n",
    "\n",
    "def findDifference(nums1, nums2):\n",
    "    set_nums1 = set(nums1)\n",
    "    set_nums2 = set(nums2)\n",
    "\n",
    "    diff1 = [x for x in nums1 if x not in set_nums2]\n",
    "    diff2 = [x for x in nums2 if x not in set_nums1]\n",
    "\n",
    "    return [diff1, diff2]\n",
    "result = findDifference(nums1, nums2)\n",
    "print(result)"
   ]
  },
  {
   "cell_type": "markdown",
   "id": "408549c7-93f7-4fae-9453-2d4a0952b438",
   "metadata": {},
   "source": [
    "#Answer3\n",
    "To find the transpose of a 2D integer array matrix with minimum time and space complexity,\n",
    "you can perform an in-place transposition by swapping the elements across the main diagonal. Here's how you can solve it:"
   ]
  },
  {
   "cell_type": "code",
   "execution_count": 14,
   "id": "59956951-5c55-4c3e-86f6-9e5d1f0f14f2",
   "metadata": {},
   "outputs": [
    {
     "name": "stdout",
     "output_type": "stream",
     "text": [
      "[[1, 4, 7], [2, 5, 8], [3, 6, 9]]\n"
     ]
    }
   ],
   "source": [
    "matrix = [[1,2,3],[4,5,6],[7,8,9]]\n",
    "def transpose_matrix(matrix):\n",
    "    rows = len(matrix)\n",
    "    cols = len(matrix[0])\n",
    "    \n",
    "    for row in range(rows):\n",
    "        for col in range(row+1, cols):\n",
    "            matrix[row][col], matrix[col][row] = matrix[col][row], matrix[row][col]\n",
    "    \n",
    "    return matrix\n",
    "result = transpose_matrix(matrix)\n",
    "print(result)"
   ]
  },
  {
   "cell_type": "markdown",
   "id": "518aeac2-2565-437f-86ce-715e802efc72",
   "metadata": {},
   "source": [
    "#Answer4\n",
    "To maximize the sum of the minimum elements in pairs, we need to pair the smallest elements together.\n",
    "Sorting the array in ascending order will allow us to easily achieve this. Here's a Python program that solves\n",
    "the problem with minimum time and space complexity:"
   ]
  },
  {
   "cell_type": "code",
   "execution_count": 15,
   "id": "46461ff4-d00f-4aff-a4e7-1529c9ed2d28",
   "metadata": {},
   "outputs": [
    {
     "name": "stdout",
     "output_type": "stream",
     "text": [
      "4\n"
     ]
    }
   ],
   "source": [
    "nums = [1, 4, 3, 2]\n",
    "def array_pair_sum(nums):\n",
    "    nums.sort()  # Sort the array in ascending order\n",
    "    max_sum = 0\n",
    "    \n",
    "    # Sum the minimum elements in pairs\n",
    "    for i in range(0, len(nums), 2):\n",
    "        max_sum += nums[i]\n",
    "    \n",
    "    return max_sum\n",
    "maximized_sum = array_pair_sum(nums)\n",
    "print(maximized_sum)"
   ]
  },
  {
   "cell_type": "markdown",
   "id": "dcf7208a-2668-4a33-9c70-6de2cf10ae69",
   "metadata": {},
   "source": [
    "#Answer5\n",
    "\n",
    "To determine the number of complete rows of a staircase that can be built using n coins, we can use a binary search approach.\n",
    "We will find the largest k such that the sum of the first k natural numbers (k*(k+1)/2) is less than or equal to n. \n",
    "The value of k will represent the number of complete rows that can be built."
   ]
  },
  {
   "cell_type": "code",
   "execution_count": 16,
   "id": "37d34285-3e12-46e8-8a16-8fbe2e6feeb3",
   "metadata": {},
   "outputs": [
    {
     "name": "stdout",
     "output_type": "stream",
     "text": [
      "2\n"
     ]
    }
   ],
   "source": [
    "n = 5\n",
    "def completeRows(n):\n",
    "    left = 0\n",
    "    right = n\n",
    "\n",
    "    while left <= right:\n",
    "        mid = left + (right - left) // 2\n",
    "        total_coins = (mid * (mid + 1)) // 2\n",
    "\n",
    "        if total_coins <= n:\n",
    "            left = mid + 1\n",
    "        else:\n",
    "            right = mid - 1\n",
    "\n",
    "    return left - 1\n",
    "result =  completeRows(n)\n",
    "print(result)"
   ]
  },
  {
   "cell_type": "markdown",
   "id": "bba58db9-77fb-4062-9416-254d3f9f873a",
   "metadata": {},
   "source": [
    "#Answer6\n",
    "To return an array of the squares of each number in the given array nums sorted in non-decreasing order with minimum time and space complexity, we can use a two-pointer approach.\n",
    "\n",
    "Here's the Python code to achieve this:"
   ]
  },
  {
   "cell_type": "code",
   "execution_count": 52,
   "id": "0f838a00-b837-40f0-9219-538bd69b0544",
   "metadata": {},
   "outputs": [
    {
     "name": "stdout",
     "output_type": "stream",
     "text": [
      "[0, 1, 9, 16, 100]\n"
     ]
    }
   ],
   "source": [
    "nums = [-4,-1,0,3,10]\n",
    "def sortedSquares(nums):\n",
    "    n = len(nums)\n",
    "    result = [0] * n\n",
    "    left = 0\n",
    "    right = n - 1\n",
    "    idx = n - 1\n",
    "\n",
    "    while left <= right:\n",
    "        left_square = nums[left] ** 2\n",
    "        right_square = nums[right] ** 2\n",
    "\n",
    "        if left_square > right_square:\n",
    "            result[idx] = left_square\n",
    "            left += 1\n",
    "        else:\n",
    "            result[idx] = right_square\n",
    "            right -= 1\n",
    "\n",
    "        idx -= 1\n",
    "\n",
    "    return result\n",
    "result = sortedSquares(nums)\n",
    "print(result)"
   ]
  },
  {
   "cell_type": "markdown",
   "id": "9c1481d8-0309-4ca8-b1a5-6bdf3c4b293f",
   "metadata": {},
   "source": [
    "#Answer7\n",
    "To determine the number of maximum integers in the matrix after performing the given operations with minimum time and space complexity,\n",
    "we can avoid constructing the entire matrix and instead focus on calculating the dimensions of the top-left region directly."
   ]
  },
  {
   "cell_type": "code",
   "execution_count": 19,
   "id": "4757a94f-0742-47da-82eb-e198ef326bc9",
   "metadata": {},
   "outputs": [
    {
     "name": "stdout",
     "output_type": "stream",
     "text": [
      "4\n"
     ]
    }
   ],
   "source": [
    "m = 3\n",
    "n = 3\n",
    "ops = [[2,2],[3,3]]\n",
    "def maxCount(m, n, ops):\n",
    "    if not ops:\n",
    "        return m * n\n",
    "\n",
    "    min_ai = m\n",
    "    min_bi = n\n",
    "\n",
    "    for op in ops:\n",
    "        min_ai = min(min_ai, op[0])\n",
    "        min_bi = min(min_bi, op[1])\n",
    "\n",
    "    return min_ai * min_bi\n",
    "result = maxCount(m,n,ops)\n",
    "print(result)"
   ]
  },
  {
   "cell_type": "markdown",
   "id": "5426906c-d47b-4169-bd96-8ecbda46ddca",
   "metadata": {},
   "source": [
    "#Answer8\n",
    "\n",
    "To rearrange the elements of the array nums in the specified form with minimum time and space complexity, \n",
    "we can perform an in-place rearrangement."
   ]
  },
  {
   "cell_type": "code",
   "execution_count": 50,
   "id": "68d1c132-c85a-4343-b621-a83411727274",
   "metadata": {},
   "outputs": [
    {
     "name": "stdout",
     "output_type": "stream",
     "text": [
      "[2, 3, 5, 4, 1, 7]\n"
     ]
    }
   ],
   "source": [
    "nums= [2,5,1,3,4,7]\n",
    "n = 3\n",
    "def rearrangeArray(nums, n):\n",
    "    result = []\n",
    "    for i in range(n):\n",
    "        result.append(nums[i])\n",
    "        result.append(nums[i+n])\n",
    "    return result\n",
    "print(rearrangeArray(nums,n))"
   ]
  },
  {
   "cell_type": "code",
   "execution_count": null,
   "id": "4f296fe6-cea6-4d35-8ec3-ec27ea90b514",
   "metadata": {},
   "outputs": [],
   "source": []
  }
 ],
 "metadata": {
  "kernelspec": {
   "display_name": "Python 3 (ipykernel)",
   "language": "python",
   "name": "python3"
  },
  "language_info": {
   "codemirror_mode": {
    "name": "ipython",
    "version": 3
   },
   "file_extension": ".py",
   "mimetype": "text/x-python",
   "name": "python",
   "nbconvert_exporter": "python",
   "pygments_lexer": "ipython3",
   "version": "3.10.8"
  }
 },
 "nbformat": 4,
 "nbformat_minor": 5
}
