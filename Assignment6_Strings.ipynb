{
 "cells": [
  {
   "cell_type": "markdown",
   "id": "05f3dba0-bb77-4a46-917c-f023dfa28b93",
   "metadata": {},
   "source": [
    "#Answer1\n",
    "To reconstruct the permutation perm from the given string s, we can follow a straightforward approach.\n",
    "We initialize a variable n with the length of s, create an empty list perm,\n",
    "and set the initial values for the smallest and largest numbers as 0 and n respectively.\n",
    "\n",
    "We then iterate through the characters in s. For each character c in s, if c is 'I', \n",
    "we append the current smallest available number to perm and increment it. If c is 'D',\n",
    "we append the current largest available number to perm and decrement it."
   ]
  },
  {
   "cell_type": "code",
   "execution_count": 2,
   "id": "9ecfee78-2b0a-447d-98d9-85b5146f2fee",
   "metadata": {},
   "outputs": [
    {
     "name": "stdout",
     "output_type": "stream",
     "text": [
      "[0, 4, 1, 3, 2]\n"
     ]
    }
   ],
   "source": [
    "s= \"IDID\"\n",
    "def reconstruct_permutation(s):\n",
    "    n = len(s)\n",
    "    perm = []\n",
    "    smallest = 0\n",
    "    largest = n\n",
    "\n",
    "    for char in s:\n",
    "        if char == 'I':\n",
    "            perm.append(smallest)\n",
    "            smallest += 1\n",
    "        else:\n",
    "            perm.append(largest)\n",
    "            largest -= 1\n",
    "\n",
    "    perm.append(smallest)  # Append the last remaining number\n",
    "\n",
    "    return perm\n",
    "result = reconstruct_permutation(s)\n",
    "print(result)"
   ]
  },
  {
   "cell_type": "markdown",
   "id": "a925c9bd-7daf-404d-8ece-732c73197dad",
   "metadata": {},
   "source": [
    "#Answer2\n",
    "To solve the problem efficiently within the specified time complexity,\n",
    "we can utilize binary search on a flattened version of the matrix."
   ]
  },
  {
   "cell_type": "code",
   "execution_count": 4,
   "id": "8469388a-b1fb-4027-884f-e6e913c5127e",
   "metadata": {},
   "outputs": [
    {
     "name": "stdout",
     "output_type": "stream",
     "text": [
      "True\n"
     ]
    }
   ],
   "source": [
    "matrix = [[1,3,5,7],[10,11,16,20],[23,30,34,60]]\n",
    "target = 3\n",
    "def searchMatrix(matrix,target):\n",
    "    m = len(matrix)\n",
    "    n= len(matrix[0])\n",
    "    left = 0\n",
    "    right = m*n-1\n",
    "    while left <= right:\n",
    "        mid = (left+right)//2\n",
    "        row = mid//n\n",
    "        col = mid % n\n",
    "        num = matrix[row][col]\n",
    "        \n",
    "        if num == target:\n",
    "            return True\n",
    "        elif num < target:\n",
    "            left = mid +1 \n",
    "        else :\n",
    "            right = mid -1 \n",
    "            \n",
    "    return False\n",
    "print(searchMatrix(matrix,target))"
   ]
  },
  {
   "cell_type": "code",
   "execution_count": 2,
   "id": "6f2aba00-7dc3-412e-9c98-ba1368cda5c4",
   "metadata": {},
   "outputs": [
    {
     "name": "stdout",
     "output_type": "stream",
     "text": [
      "False\n"
     ]
    }
   ],
   "source": [
    "#Answer3\n",
    "#Here's the Python code to check if an array is a valid mountain array:\n",
    "arr = [2,1]\n",
    "def validmountainArray(arr):\n",
    "    n = len(arr)\n",
    "    if n<3:\n",
    "        return False\n",
    "    \n",
    "    i=0\n",
    "    while i < n-1 and arr[i] < arr[i+1]:\n",
    "        i += 1\n",
    "    if i==0 or i == n-1 :\n",
    "        return False\n",
    "    while i < n-1 and arr[i] > arr [i+1]:\n",
    "        i += 1\n",
    "    return i == n-1\n",
    "result = validmountainArray(arr)\n",
    "print(result)"
   ]
  },
  {
   "cell_type": "markdown",
   "id": "608e2ed0-43a5-479b-bf11-14084181cfb6",
   "metadata": {},
   "source": [
    "#Answer4\n",
    "\n",
    "To find the maximum length of a contiguous subarray with an equal number of 0s and 1s,\n",
    "we can use the concept of a running sum or prefix sum. We'll initialize a variable max_len to store\n",
    "the maximum length found so far and a variable count to keep track of the running sum."
   ]
  },
  {
   "cell_type": "code",
   "execution_count": 3,
   "id": "cc8004d2-c5b4-4495-80a9-cde8f8c7f726",
   "metadata": {},
   "outputs": [
    {
     "name": "stdout",
     "output_type": "stream",
     "text": [
      "2\n"
     ]
    }
   ],
   "source": [
    "nums = [0,1]\n",
    "def findMaxLength(nums):\n",
    "    max_len = 0\n",
    "    count = 0\n",
    "    sum_count = {0: -1}\n",
    "\n",
    "    for i in range(len(nums)):\n",
    "        count += 1 if nums[i] == 1 else -1\n",
    "\n",
    "        if count in sum_count:\n",
    "            length = i - sum_count[count]\n",
    "            max_len = max(max_len, length)\n",
    "        else:\n",
    "            sum_count[count] = i\n",
    "\n",
    "    return max_len\n",
    "print(findMaxLength(nums))"
   ]
  },
  {
   "cell_type": "code",
   "execution_count": 8,
   "id": "664ccd55-39c4-4ca9-aa37-515d60e0835e",
   "metadata": {},
   "outputs": [
    {
     "name": "stdout",
     "output_type": "stream",
     "text": [
      "40\n"
     ]
    }
   ],
   "source": [
    "#Answer5\n",
    "#To find the minimum product sum by rearranging the elements of nums1, we can follow the following steps:\n",
    "nums1 = [5,3,4,2]\n",
    "nums2 = [4,2,2,5]\n",
    "def minProductSum(nums1, nums2):\n",
    "    min_product_sum = 0\n",
    "\n",
    "    nums1.sort()\n",
    "    nums2.sort()\n",
    "    left = 0\n",
    "    right = len(nums2) - 1\n",
    "\n",
    "    while left < len(nums1):\n",
    "        min_product_sum += nums1[left] * nums2[right]\n",
    "        left += 1\n",
    "        right -= 1\n",
    "\n",
    "    return min_product_sum\n",
    "print(minProductSum(nums1,nums2))"
   ]
  },
  {
   "cell_type": "code",
   "execution_count": 10,
   "id": "39117af8-21ee-42a7-a473-b9b0811cc5e5",
   "metadata": {},
   "outputs": [
    {
     "name": "stdout",
     "output_type": "stream",
     "text": [
      "[1, 3, 4]\n"
     ]
    }
   ],
   "source": [
    "#Answer6\n",
    "changed = [1, 3, 4, 2, 6, 8]\n",
    "def find_original_array(changed):\n",
    "    count = {}\n",
    "    for num in changed:\n",
    "        count[num] = count.get(num, 0) + 1\n",
    "\n",
    "    original = []\n",
    "    for num in changed:\n",
    "        if count.get(num * 2, 0) > 0:\n",
    "            original.append(num)\n",
    "            count[num] -= 1\n",
    "            count[num * 2] -= 1\n",
    "\n",
    "    for freq in count.values():\n",
    "        if freq > 0:\n",
    "            return []\n",
    "\n",
    "    return original\n",
    "\n",
    "original = find_original_array(changed)\n",
    "print(original)"
   ]
  },
  {
   "cell_type": "code",
   "execution_count": 11,
   "id": "93161a04-eec0-43af-aa8f-dd04c2367632",
   "metadata": {},
   "outputs": [
    {
     "name": "stdout",
     "output_type": "stream",
     "text": [
      "[[1, 2, 3], [8, 9, 4], [7, 6, 5]]\n"
     ]
    }
   ],
   "source": [
    "#Answer7\n",
    "n=3\n",
    "def generateMatrix(n):\n",
    "    result = [[0] * n for _ in range(n)]\n",
    "    num = 1\n",
    "    startRow, endRow, startCol, endCol = 0, n - 1, 0, n - 1\n",
    "\n",
    "    while startRow <= endRow and startCol <= endCol:\n",
    "        # Fill top row from left to right\n",
    "        for i in range(startCol, endCol + 1):\n",
    "            result[startRow][i] = num\n",
    "            num += 1\n",
    "        startRow += 1\n",
    "\n",
    "        # Fill right column from top to bottom\n",
    "        for i in range(startRow, endRow + 1):\n",
    "            result[i][endCol] = num\n",
    "            num += 1\n",
    "        endCol -= 1\n",
    "\n",
    "        # Fill bottom row from right to left\n",
    "        if startRow <= endRow:\n",
    "            for i in range(endCol, startCol - 1, -1):\n",
    "                result[endRow][i] = num\n",
    "                num += 1\n",
    "            endRow -= 1\n",
    "\n",
    "        # Fill left column from bottom to top\n",
    "        if startCol <= endCol:\n",
    "            for i in range(endRow, startRow - 1, -1):\n",
    "                result[i][startCol] = num\n",
    "                num += 1\n",
    "            startCol += 1\n",
    "\n",
    "    return result\n",
    "print(generateMatrix(n))"
   ]
  },
  {
   "cell_type": "code",
   "execution_count": 14,
   "id": "cbc1b1b0-221c-448c-94e6-b4452c74f9bb",
   "metadata": {},
   "outputs": [
    {
     "name": "stdout",
     "output_type": "stream",
     "text": [
      "[[7, 0, 0], [-7, 0, 3]]\n"
     ]
    }
   ],
   "source": [
    "#Answer8\n",
    "mat1 = [[1,0,0],[-1,0,3]]\n",
    "mat2 = [[7,0,0],[0,0,0],[0,0,1]]\n",
    "def multiply(mat1, mat2):\n",
    "    m, k = len(mat1), len(mat1[0])\n",
    "    n = len(mat2[0])\n",
    "\n",
    "    result = [[0] * n for _ in range(m)]\n",
    "\n",
    "    for i in range(m):\n",
    "        for j in range(n):\n",
    "            if mat1[i][j] != 0:  # Only perform calculations if mat1[i][j] is non-zero\n",
    "                for p in range(k):\n",
    "                    if mat2[p][j] != 0:  # Only perform calculations if mat2[p][j] is non-zero\n",
    "                        result[i][j] += mat1[i][p] * mat2[p][j]\n",
    "\n",
    "    return result\n",
    "result = multiply(mat1, mat2)\n",
    "print(result)"
   ]
  },
  {
   "cell_type": "code",
   "execution_count": null,
   "id": "2b986311-aad5-4701-b437-3f61157f705c",
   "metadata": {},
   "outputs": [],
   "source": []
  }
 ],
 "metadata": {
  "kernelspec": {
   "display_name": "Python 3 (ipykernel)",
   "language": "python",
   "name": "python3"
  },
  "language_info": {
   "codemirror_mode": {
    "name": "ipython",
    "version": 3
   },
   "file_extension": ".py",
   "mimetype": "text/x-python",
   "name": "python",
   "nbconvert_exporter": "python",
   "pygments_lexer": "ipython3",
   "version": "3.10.8"
  }
 },
 "nbformat": 4,
 "nbformat_minor": 5
}
