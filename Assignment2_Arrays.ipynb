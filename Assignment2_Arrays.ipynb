{
 "cells": [
  {
   "cell_type": "markdown",
   "id": "72ce7eb1-ea46-4b91-802d-fbd3029791f7",
   "metadata": {},
   "source": [
    "#Answer1\n",
    "To maximize the sum of the minimum elements in pairs, we need to pair the smallest elements together.\n",
    "Sorting the array in ascending order will allow us to easily achieve this.\n",
    "Here's a Python program that solves the problem with minimum time and space complexity:"
   ]
  },
  {
   "cell_type": "code",
   "execution_count": null,
   "id": "4038735f-a9d1-424f-b630-ec463e3613b2",
   "metadata": {},
   "outputs": [],
   "source": [
    "nums = [1, 4, 3, 2]\n",
    "def array_pair_sum(nums):\n",
    "    nums.sort()  # Sort the array in ascending order\n",
    "    max_sum = 0\n",
    "    \n",
    "    # Sum the minimum elements in pairs\n",
    "    for i in range(0, len(nums), 2):\n",
    "        max_sum += nums[i]\n",
    "    \n",
    "    return max_sum\n",
    "maximized_sum = array_pair_sum(nums)\n",
    "print(maximized_sum)"
   ]
  },
  {
   "cell_type": "markdown",
   "id": "32e4f6ac-c2c4-4e2a-8a2b-64313a824638",
   "metadata": {},
   "source": [
    "The time complexity of this solution is O(n log n) due to the sorting operation,\n",
    "and the space complexity is O(1) since we are using a constant amount of extra space."
   ]
  },
  {
   "cell_type": "markdown",
   "id": "dc4b150b-eca1-4592-af0a-677f885a342c",
   "metadata": {},
   "source": [
    "#Answer2\n",
    "To find the maximum number of different types of candies Alice can eat while following the doctor's advice,\n",
    "we need to determine the total number of unique candy types and compare it with half the total number of candies.\n",
    "\n",
    "Here's a Python program that solves this problem:"
   ]
  },
  {
   "cell_type": "code",
   "execution_count": null,
   "id": "a30aa47a-16e8-4175-ae36-6ad4a439c25c",
   "metadata": {},
   "outputs": [],
   "source": [
    "candyType = [1,1,2,2,3,3]\n",
    "def max_candies(candyType):\n",
    "    unique_candy=len(set(candyType))\n",
    "    max_candies = len(candyType)//2\n",
    "\n",
    "    return min(unique_candy,max_candies)\n",
    "print(max_candies(candyType))"
   ]
  },
  {
   "cell_type": "markdown",
   "id": "680567c4-4c2c-4e11-8d14-c19029afccc1",
   "metadata": {},
   "source": [
    "The time complexity of this solution is O(n), where n is the length of the candyType array.\n",
    "The space complexity is O(n) as well, due to the creation of a set to determine the number of unique candy types."
   ]
  },
  {
   "cell_type": "markdown",
   "id": "f92f72a1-a4c4-481c-b031-b35ea4bf0e18",
   "metadata": {},
   "source": [
    "#Answer3\n",
    "To find the length of the longest harmonious subsequence in the given array,\n",
    "you can use a hash map to count the frequency of each number.\n",
    "By iterating over the array and checking the count of each number and its adjacent numbers, \n",
    "you can determine the length of harmonious subsequences\n",
    "Here's a Python program that solves this problem:"
   ]
  },
  {
   "cell_type": "code",
   "execution_count": null,
   "id": "1cf8dceb-eebd-439f-834d-3ef54515b932",
   "metadata": {},
   "outputs": [],
   "source": [
    "nums = [1, 3, 2, 2, 5, 2, 3, 7]\n",
    "def findLHS(nums):\n",
    "    count_map = {}  # Hash map to store the count of each number\n",
    "    longest_subseq = 0\n",
    "\n",
    "    # Count the frequency of each number\n",
    "    for num in nums:\n",
    "        count_map[num] = count_map.get(num, 0) + 1\n",
    "\n",
    "    # Check the count of each number and its adjacent numbers\n",
    "    for num in count_map:\n",
    "        if num + 1 in count_map:\n",
    "            length = count_map[num] + count_map[num + 1]\n",
    "            longest_subseq = max(longest_subseq, length)\n",
    "\n",
    "    return longest_subseq\n",
    "longest_subsequence = findLHS(nums)\n",
    "print(longest_subsequence)"
   ]
  },
  {
   "cell_type": "markdown",
   "id": "da64b042-5e3d-459b-9407-e825de2db3c2",
   "metadata": {},
   "source": [
    "The time complexity of this solution is O(n), where n is the length of the nums array, \n",
    "since we iterate over the array and perform constant time operations for each element. \n",
    "The space complexity is also O(n) due to the usage of the count_map hash map, which can store up to n distinct numbers."
   ]
  },
  {
   "cell_type": "markdown",
   "id": "5113e116-5187-48ee-b194-fcbdfdd19107",
   "metadata": {},
   "source": [
    "#Answer4\n",
    "To solve this problem, you can iterate over the flowerbed and check if each empty plot and its adjacent plots are also empty.\n",
    "If so, you can plant a flower in that plot and decrement the value of n. After iterating over the flowerbed,\n",
    "if n becomes zero or less, it means that all the required flowers have been planted without violating the no-adjacent-flowers rule.\n",
    "Here's a Python program that implements this approach:"
   ]
  },
  {
   "cell_type": "code",
   "execution_count": null,
   "id": "6ddce99a-f3f4-4421-9bc5-12c3f84cb5a4",
   "metadata": {},
   "outputs": [],
   "source": [
    "flowerbed = [1,0,0,0,1]\n",
    "n=1\n",
    "def canPlaceFlowers(flowerbed,n):\n",
    "    length = len(flowerbed)\n",
    "    count = 0\n",
    "    i = 0\n",
    "    \n",
    "    while i < length:\n",
    "        if (\n",
    "            flowerbed[i] == 0 and\n",
    "            (i == 0 or flowerbed[i - 1] == 0) and\n",
    "            (i == length - 1 or flowerbed[i + 1] == 0)\n",
    "        ):\n",
    "            \n",
    "            flowerbed[i] = 1\n",
    "            count += 1\n",
    "            if count >=n:\n",
    "                return True\n",
    "        i+=1\n",
    "    return False\n",
    "can_plant = canPlaceFlowers(flowerbed,n)\n",
    "print(can_plant)"
   ]
  },
  {
   "cell_type": "markdown",
   "id": "e00555a2-ebbe-4597-acab-64b6ba4bf035",
   "metadata": {},
   "source": [
    "The time complexity of this solution is O(n), where n is the length of the flowerbed array, as we iterate over the flowerbed once.\n",
    "The space complexity is O(1) since we are using a constant amount of extra space."
   ]
  },
  {
   "cell_type": "markdown",
   "id": "5646a091-d3f3-4f72-b5cc-09a2e4210efe",
   "metadata": {},
   "source": [
    "#Answer5\n",
    "\n",
    "To find the maximum product of three numbers in the given array, you can sort the array in ascending order and consider two scenarios:\n",
    "\n",
    "The maximum product can be obtained by multiplying the three largest elements in the sorted array.\n",
    "The maximum product can be obtained by multiplying the two smallest elements (if they are negative) and the largest element.\n",
    "Here's a Python program that implements this approach:"
   ]
  },
  {
   "cell_type": "code",
   "execution_count": null,
   "id": "337e04df-9bd4-454a-b46b-4ba4ca56b408",
   "metadata": {},
   "outputs": [],
   "source": [
    "nums = [1, 2, 3]\n",
    "def maximumProduct(nums):\n",
    "    nums.sort()  # Sort the array in ascending order\n",
    "\n",
    "    # Case 1: Multiply the three largest elements\n",
    "    max_product1 = nums[-1] * nums[-2] * nums[-3]\n",
    "\n",
    "    # Case 2: Multiply the two smallest elements (if they are negative) and the largest element\n",
    "    max_product2 = nums[0] * nums[1] * nums[-1]\n",
    "\n",
    "    # Return the maximum product from the two cases\n",
    "    return max(max_product1, max_product2)\n",
    "\n",
    "max_product = maximumProduct(nums)\n",
    "print(max_product)"
   ]
  },
  {
   "cell_type": "markdown",
   "id": "bbc19786-742a-4fb5-a633-75ef3df96dd1",
   "metadata": {},
   "source": [
    "#Answer6\n",
    "To search for a target value in a sorted array with O(log n) runtime complexity, you can use the binary search algorithm.\n",
    "Here's a Python program that implements this approach:"
   ]
  },
  {
   "cell_type": "code",
   "execution_count": 7,
   "id": "0b82f2b2-676f-485e-acb4-d4c9885d8c87",
   "metadata": {},
   "outputs": [
    {
     "name": "stdout",
     "output_type": "stream",
     "text": [
      "4\n"
     ]
    }
   ],
   "source": [
    "nums = [-1,0,3,5,9,12]\n",
    "target=9\n",
    "def search(nums,target):\n",
    "    left = 0\n",
    "    right = len(nums)-1\n",
    "    \n",
    "    while left<=right:\n",
    "        mid = left + (right-left)//2\n",
    "        if nums[mid] == target :\n",
    "            return mid\n",
    "        elif nums[mid]<target:\n",
    "            left=mid +1\n",
    "        else :\n",
    "            right =mid-1\n",
    "    return -1\n",
    "index=search(nums,target)\n",
    "print(index)"
   ]
  },
  {
   "cell_type": "markdown",
   "id": "d52f70d7-b3c3-4832-aff4-3cef0b37cf5a",
   "metadata": {},
   "source": [
    "#Answr7\n",
    "To check if an array is monotonic, we can iterate through the array and compare adjacent elements.\n",
    "If all adjacent elements maintain a non-decreasing or non-increasing order, the array is monotonic.\n",
    "\n",
    "Here's a Python program that implements this approach:"
   ]
  },
  {
   "cell_type": "code",
   "execution_count": 9,
   "id": "687443d6-1136-41fc-9cd5-c587a98d6ae5",
   "metadata": {},
   "outputs": [
    {
     "name": "stdout",
     "output_type": "stream",
     "text": [
      "True\n"
     ]
    }
   ],
   "source": [
    "nums = [1,2,2,3]\n",
    "def isMonotonic(nums):\n",
    "    n=len(nums)\n",
    "    increasing = decreasing = True\n",
    "    \n",
    "    for i in range(1,n):\n",
    "        if nums[i]<nums[i-1]:\n",
    "            increasing = False\n",
    "        if nums[i]>nums[i-1]:\n",
    "            decreasing = False\n",
    "            \n",
    "    return increasing or decearsing\n",
    "\n",
    "is_Monotonic = isMonotonic(nums)\n",
    "print(is_Monotonic)"
   ]
  },
  {
   "cell_type": "markdown",
   "id": "e0d66f4d-2d43-4017-a77d-7a5f88f764fb",
   "metadata": {},
   "source": [
    "The time complexity of this solution is O(n), where n is the length of the input array nums,\n",
    "as we iterate through the array once. The space complexity is O(1) since we use a constant amount of extra space."
   ]
  },
  {
   "cell_type": "markdown",
   "id": "fb248095-0c0c-4364-bdc5-9baabb279a0d",
   "metadata": {},
   "source": [
    "#Answer8\n",
    "To find the minimum score of the array nums after applying the mentioned operation at most once for each index, we can follow these steps:\n",
    "\n",
    "1-If the length of nums is 1, the score will always be 0 since there is only one element. Return 0 as the minimum score.\n",
    "2-Find the minimum and maximum elements in the array nums and store them in variables min_val and max_val, respectively.\n",
    "3-Calculate the initial score as the difference between max_val and min_val.\n",
    "4-If the initial score is already 0, return 0 as the minimum score.\n",
    "5-Iterate over each element num in the array nums.\n",
    "6-Calculate the potential new minimum value by subtracting k from num if it doesn't exceed min_val. Otherwise, calculate the potential new minimum value as min_val.\n",
    "7-Calculate the potential new maximum value by adding k to num if it doesn't fall below max_val. Otherwise, calculate the potential new maximum value as max_val.\n",
    "8-Calculate the potential new score as the difference between the potential new maximum and minimum values.\n",
    "Update the min_val and max_val with the potential new minimum and maximum values if the potential new score is smaller than the current score.\n",
    "9-Return the final score as the minimum score.\n",
    "Here's the Python code implementing the above approach:"
   ]
  },
  {
   "cell_type": "code",
   "execution_count": 11,
   "id": "30961b25-c326-489e-93c5-a7ec7b2f69db",
   "metadata": {},
   "outputs": [
    {
     "name": "stdout",
     "output_type": "stream",
     "text": [
      "0\n"
     ]
    }
   ],
   "source": [
    "nums = [1]\n",
    "k = 0\n",
    "def minimumscore(nums):\n",
    "    if len(nums)==0 :\n",
    "        return 0\n",
    "    max_val=max(nums)\n",
    "    min_val=min(nums)\n",
    "    score = max_val-min_val\n",
    "    \n",
    "    if score ==0:\n",
    "        return 0\n",
    "    for num in nums:\n",
    "        new_min=min(num-k,min_val)\n",
    "        new_max=max(num+k,max_val)\n",
    "        new_score=new_max-new_min\n",
    "        \n",
    "        if new_score<score:\n",
    "            min_val=new_min\n",
    "            max_val=new_max\n",
    "            \n",
    "            score = new_score\n",
    "            \n",
    "    return score\n",
    "min_score = minimumscore(nums)\n",
    "print(min_score)"
   ]
  },
  {
   "cell_type": "markdown",
   "id": "fc1a1f07-b233-4ff7-b67b-4d4417e4aa0b",
   "metadata": {},
   "source": [
    "Time complexity of this program is O(n) and Space Complexity for this program is O(1)."
   ]
  },
  {
   "cell_type": "code",
   "execution_count": null,
   "id": "20f6a2dc-13f6-4531-964e-e5dada746b31",
   "metadata": {},
   "outputs": [],
   "source": []
  }
 ],
 "metadata": {
  "kernelspec": {
   "display_name": "Python 3 (ipykernel)",
   "language": "python",
   "name": "python3"
  },
  "language_info": {
   "codemirror_mode": {
    "name": "ipython",
    "version": 3
   },
   "file_extension": ".py",
   "mimetype": "text/x-python",
   "name": "python",
   "nbconvert_exporter": "python",
   "pygments_lexer": "ipython3",
   "version": "3.10.8"
  }
 },
 "nbformat": 4,
 "nbformat_minor": 5
}
