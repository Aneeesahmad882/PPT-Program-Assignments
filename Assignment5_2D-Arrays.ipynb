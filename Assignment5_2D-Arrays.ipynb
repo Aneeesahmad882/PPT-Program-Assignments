{
 "cells": [
  {
   "cell_type": "markdown",
   "id": "a383ae12-6c04-4a90-868e-73dbd449ae35",
   "metadata": {},
   "source": [
    "#Answer1\n",
    "To convert the given 1D array original into a 2D array with m rows and n columns as described,\n",
    "you can use nested loops to extract the elements from original and populate the 2D array accordingly."
   ]
  },
  {
   "cell_type": "code",
   "execution_count": 1,
   "id": "0ee5a43c-f1a4-4eb3-a5e2-6c81bb8614c7",
   "metadata": {},
   "outputs": [
    {
     "name": "stdout",
     "output_type": "stream",
     "text": [
      "[[1, 2], [3, 4]]\n"
     ]
    }
   ],
   "source": [
    "original = [1,2,3,4]\n",
    "m=2\n",
    "n=2\n",
    "def convert_2D_Array(original,m,n):\n",
    "    if len(original) != m*n:\n",
    "        return []\n",
    "    \n",
    "    result = [[0]*n for _ in range(m)]\n",
    "    index = 0\n",
    "    \n",
    "    for i in range(m):\n",
    "        for j in range (n):\n",
    "            result[i][j] = original[index]\n",
    "            \n",
    "            index += 1\n",
    "            \n",
    "    return result\n",
    "result =  convert_2D_Array(original,m,n)\n",
    "print(result)"
   ]
  },
  {
   "cell_type": "markdown",
   "id": "10d4848c-77c1-4798-a4d9-729fa4274957",
   "metadata": {},
   "source": [
    "#Answer2\n",
    "\n",
    "To determine the number of complete rows of a staircase that can be built using n coins, we can use a binary search approach.\n",
    "We will find the largest k such that the sum of the first k natural numbers (k*(k+1)/2) is less than or equal to n. \n",
    "The value of k will represent the number of complete rows that can be built."
   ]
  },
  {
   "cell_type": "code",
   "execution_count": 21,
   "id": "883e249e-a054-4b14-996a-19960ad466db",
   "metadata": {},
   "outputs": [
    {
     "name": "stdout",
     "output_type": "stream",
     "text": [
      "2\n"
     ]
    }
   ],
   "source": [
    "n = 5\n",
    "def completeRows(n):\n",
    "    left = 0\n",
    "    right = n\n",
    "\n",
    "    while left <= right:\n",
    "        mid = left + (right - left) // 2\n",
    "        total_coins = (mid * (mid + 1)) // 2\n",
    "\n",
    "        if total_coins <= n:\n",
    "            left = mid + 1\n",
    "        else:\n",
    "            right = mid - 1\n",
    "\n",
    "    return left - 1\n",
    "result =  completeRows(n)\n",
    "print(result)"
   ]
  },
  {
   "cell_type": "markdown",
   "id": "6c137562-e796-400a-a97d-86a054135aee",
   "metadata": {},
   "source": [
    "#Answer3\n",
    "To return an array of the squares of each number in the given array nums sorted in non-decreasing order with minimum time and space complexity, we can use a two-pointer approach.\n",
    "\n",
    "Here's the Python code to achieve this:"
   ]
  },
  {
   "cell_type": "code",
   "execution_count": 1,
   "id": "e70e7ddb-44f4-43d9-a365-5030def80f99",
   "metadata": {},
   "outputs": [
    {
     "name": "stdout",
     "output_type": "stream",
     "text": [
      "[0, 1, 9, 16, 100]\n"
     ]
    }
   ],
   "source": [
    "nums = [-4,-1,0,3,10]\n",
    "def sortedSquares(nums):\n",
    "    n = len(nums)\n",
    "    result = [0] * n\n",
    "    left = 0\n",
    "    right = n - 1\n",
    "    idx = n - 1\n",
    "\n",
    "    while left <= right:\n",
    "        left_square = nums[left] ** 2\n",
    "        right_square = nums[right] ** 2\n",
    "\n",
    "        if left_square > right_square:\n",
    "            result[idx] = left_square\n",
    "            left += 1\n",
    "        else:\n",
    "            result[idx] = right_square\n",
    "            right -= 1\n",
    "\n",
    "        idx -= 1\n",
    "\n",
    "    return result\n",
    "result = sortedSquares(nums)\n",
    "print(result)"
   ]
  },
  {
   "cell_type": "markdown",
   "id": "5db3f465-8d6b-477c-8529-6859a0df21cc",
   "metadata": {},
   "source": [
    "#Answer4\n",
    "To find the distinct integers that are present in one array but not in the other with minimum time and space complexity,\n",
    "you can use two sets to track the unique values. Here's how you can solve it:"
   ]
  },
  {
   "cell_type": "code",
   "execution_count": 2,
   "id": "26144ae9-28cb-4745-b60f-aed96729d59b",
   "metadata": {},
   "outputs": [
    {
     "name": "stdout",
     "output_type": "stream",
     "text": [
      "[[1, 3], [4, 6]]\n"
     ]
    }
   ],
   "source": [
    "nums1 = [1,2,3]\n",
    "nums2 = [2,4,6]\n",
    "\n",
    "def findDifference(nums1, nums2):\n",
    "    set_nums1 = set(nums1)\n",
    "    set_nums2 = set(nums2)\n",
    "\n",
    "    diff1 = [x for x in nums1 if x not in set_nums2]\n",
    "    diff2 = [x for x in nums2 if x not in set_nums1]\n",
    "\n",
    "    return [diff1, diff2]\n",
    "result = findDifference(nums1, nums2)\n",
    "print(result)"
   ]
  },
  {
   "cell_type": "code",
   "execution_count": 10,
   "id": "01a1e13b-a410-469b-83f8-3c956ccfe0f2",
   "metadata": {},
   "outputs": [
    {
     "name": "stdout",
     "output_type": "stream",
     "text": [
      "2\n"
     ]
    }
   ],
   "source": [
    "#Answer5\n",
    "arr1 = [4,5,8]\n",
    "arr2 = [10,9,1,8]\n",
    "d = 2\n",
    "def find_distance_value(arr1,arr2, d):\n",
    "    distance = 0\n",
    "\n",
    "    for num1 in arr1:\n",
    "        for num2 in arr2:\n",
    "            if abs(num1 - num2) <= d:\n",
    "                break\n",
    "        else:\n",
    "            distance += 1\n",
    "\n",
    "    return distance\n",
    "print(find_distance_value(arr1,arr2, d))"
   ]
  },
  {
   "cell_type": "markdown",
   "id": "84bc86d6-c37d-4010-bd5f-571c52c97b7d",
   "metadata": {},
   "source": [
    "#Answer6\n",
    "To find all the integers that appear twice in the given array nums with the specified constraints, \n",
    "we can utilize the property of the range and the fact that each integer appears either once or twice."
   ]
  },
  {
   "cell_type": "code",
   "execution_count": 5,
   "id": "d3c63461-6954-4fb8-8f39-5db3fd7a7e90",
   "metadata": {},
   "outputs": [
    {
     "name": "stdout",
     "output_type": "stream",
     "text": [
      "[2, 3]\n"
     ]
    }
   ],
   "source": [
    "nums = [4, 3, 2, 7, 8, 2, 3, 1]\n",
    "def find_duplicates(nums):\n",
    "    result = []\n",
    "    \n",
    "    for num in nums:\n",
    "        abs_num= abs(num)\n",
    "        if nums[abs(num)-1] > 0:\n",
    "            nums[abs_num - 1] *= -1\n",
    "            \n",
    "        else:\n",
    "            result.append(abs_num)\n",
    "    return result\n",
    "print(find_duplicates(nums))"
   ]
  },
  {
   "cell_type": "markdown",
   "id": "49f67b3b-f065-418a-9c0d-faf56585a058",
   "metadata": {},
   "source": [
    "#Answer7\n",
    "\n",
    "To find the minimum element in a sorted rotated array of unique elements with a time complexity of O(log n),\n",
    "we can use a modified binary search algorithm."
   ]
  },
  {
   "cell_type": "code",
   "execution_count": 2,
   "id": "f175702d-7838-4486-a71a-3fddcbe93c93",
   "metadata": {},
   "outputs": [
    {
     "name": "stdout",
     "output_type": "stream",
     "text": [
      "1\n"
     ]
    }
   ],
   "source": [
    "nums = [3,4,5,1,2]\n",
    "def find_minimum(nums):\n",
    "    left = 0\n",
    "    right = len(nums) - 1\n",
    "\n",
    "    while left < right:\n",
    "        mid = left + (right - left) // 2\n",
    "\n",
    "        if nums[mid] > nums[right]:\n",
    "            left = mid + 1\n",
    "        else:\n",
    "            right = mid\n",
    "\n",
    "    return nums[left]\n",
    "print(find_minimum(nums))"
   ]
  },
  {
   "cell_type": "code",
   "execution_count": 31,
   "id": "6d2e6f52-3af9-4673-a9ea-f288e1532192",
   "metadata": {},
   "outputs": [
    {
     "name": "stdout",
     "output_type": "stream",
     "text": [
      "[1, 3, 4]\n"
     ]
    }
   ],
   "source": [
    "#Answer8\n",
    "changed = [1, 3, 4, 2, 6, 8]\n",
    "def find_original_array(changed):\n",
    "    count = {}\n",
    "    for num in changed:\n",
    "        count[num] = count.get(num, 0) + 1\n",
    "\n",
    "    original = []\n",
    "    for num in changed:\n",
    "        if count.get(num * 2, 0) > 0:\n",
    "            original.append(num)\n",
    "            count[num] -= 1\n",
    "            count[num * 2] -= 1\n",
    "\n",
    "    for freq in count.values():\n",
    "        if freq > 0:\n",
    "            return []\n",
    "\n",
    "    return original\n",
    "\n",
    "original = find_original_array(changed)\n",
    "print(original)"
   ]
  },
  {
   "cell_type": "code",
   "execution_count": null,
   "id": "ca037d72-0a53-4e04-94db-75c5d9af8e88",
   "metadata": {},
   "outputs": [],
   "source": []
  }
 ],
 "metadata": {
  "kernelspec": {
   "display_name": "Python 3 (ipykernel)",
   "language": "python",
   "name": "python3"
  },
  "language_info": {
   "codemirror_mode": {
    "name": "ipython",
    "version": 3
   },
   "file_extension": ".py",
   "mimetype": "text/x-python",
   "name": "python",
   "nbconvert_exporter": "python",
   "pygments_lexer": "ipython3",
   "version": "3.10.8"
  }
 },
 "nbformat": 4,
 "nbformat_minor": 5
}
