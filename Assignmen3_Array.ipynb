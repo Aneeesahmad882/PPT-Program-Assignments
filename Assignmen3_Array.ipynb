{
 "cells": [
  {
   "cell_type": "markdown",
   "id": "d64fa4a6-0b08-48bc-9d05-563b32309799",
   "metadata": {},
   "source": [
    "#Answer1\n",
    "\n",
    "To find the sum of three integers in the nums array that is closest to the target, \n",
    "we can use a similar two-pointer approach along with sorting the array. However,\n",
    "to minimize the time and space complexity, we can modify the algorithm slightly."
   ]
  },
  {
   "cell_type": "code",
   "execution_count": 14,
   "id": "c7e85417-b05b-4771-a381-dce4dbee1868",
   "metadata": {},
   "outputs": [
    {
     "name": "stdout",
     "output_type": "stream",
     "text": [
      "2\n"
     ]
    }
   ],
   "source": [
    "nums=[-1,2,1,-4]\n",
    "target= 1\n",
    "def threeSumClosest(nums, target):\n",
    "    nums.sort()\n",
    "    n = len(nums)\n",
    "    closestSum = float('inf')\n",
    "\n",
    "    for i in range(n - 2):\n",
    "        left = i + 1\n",
    "        right = n - 1\n",
    "\n",
    "        while left < right:\n",
    "            currentSum = nums[i] + nums[left] + nums[right]\n",
    "            if abs(currentSum - target) < abs(closestSum - target):\n",
    "                closestSum = currentSum\n",
    "\n",
    "            if currentSum > target:\n",
    "                right -= 1\n",
    "            elif currentSum < target:\n",
    "                left += 1\n",
    "            else:\n",
    "                return target\n",
    "\n",
    "    return closestSum\n",
    "result = threeSumClosest(nums, target)\n",
    "print(result)"
   ]
  },
  {
   "cell_type": "code",
   "execution_count": 22,
   "id": "230990c0-9033-4f14-a458-77ddfed1b1bc",
   "metadata": {},
   "outputs": [
    {
     "name": "stdout",
     "output_type": "stream",
     "text": [
      "[[-2, -1, 1, 2], [-2, 0, 0, 2], [-1, 0, 0, 1]]\n"
     ]
    }
   ],
   "source": [
    "#Answer2\n",
    "nums = [1, 0, -1, 0, -2, 2]\n",
    "target = 0\n",
    "def fourSum(nums, target):\n",
    "    nums.sort()\n",
    "    n = len(nums)\n",
    "    result = []\n",
    "\n",
    "    for i in range(n - 3):\n",
    "        if i > 0 and nums[i] == nums[i-1]:\n",
    "            continue\n",
    "\n",
    "        for j in range(i + 1, n - 2):\n",
    "            if j > i + 1 and nums[j] == nums[j-1]:\n",
    "                continue\n",
    "\n",
    "            left = j + 1\n",
    "            right = n - 1\n",
    "\n",
    "            while left < right:\n",
    "                currentSum = nums[i] + nums[j] + nums[left] + nums[right]\n",
    "\n",
    "                if currentSum == target:\n",
    "                    result.append([nums[i], nums[j], nums[left], nums[right]])\n",
    "\n",
    "                    while left < right and nums[left] == nums[left + 1]:\n",
    "                        left += 1\n",
    "                    while left < right and nums[right] == nums[right - 1]:\n",
    "                        right -= 1\n",
    "\n",
    "                    left += 1\n",
    "                    right -= 1\n",
    "\n",
    "                elif currentSum < target:\n",
    "                    left += 1\n",
    "                else:\n",
    "                    right -= 1\n",
    "\n",
    "    return result\n",
    "result = fourSum(nums, target)\n",
    "print(result)"
   ]
  },
  {
   "cell_type": "code",
   "execution_count": 32,
   "id": "37d35c72-8de4-4b3a-9bcd-89a49224cb46",
   "metadata": {},
   "outputs": [
    {
     "name": "stdout",
     "output_type": "stream",
     "text": [
      "[1, 2, 3]\n"
     ]
    }
   ],
   "source": [
    "#Answer3\n",
    "nums = [1, 2, 3]\n",
    "def nextPermutation(nums):\n",
    "    n = len(nums)\n",
    "    i = n - 2\n",
    "\n",
    "    # Find the first pair in descending order from the right\n",
    "    while i >= 0 and nums[i] >= nums[i+1]:\n",
    "        i -= 1\n",
    "\n",
    "    if i >= 0:\n",
    "        j = n - 1\n",
    "        # Find the first element greater than nums[i]\n",
    "        while j >= 0 and nums[j] <= nums[i]:\n",
    "            j -= 1\n",
    "        # Swap nums[i] and nums[j]\n",
    "        nums[i], nums[j] = nums[j], nums[i]\n",
    "\n",
    "    # Reverse the subarray from index i+1\n",
    "    left = i + 1\n",
    "    right = n - 1\n",
    "    while left < right:\n",
    "        nums[left], nums[right] = nums[right], nums[left]\n",
    "        left += 1\n",
    "        right -= 1\n",
    "print(nums)"
   ]
  },
  {
   "cell_type": "markdown",
   "id": "8d37b14e-9b0d-4ba6-91e4-c589b93ec2ef",
   "metadata": {},
   "source": [
    "#Answer4\n",
    "To find the index of a target value in a sorted array nums or the index where it would be inserted, we can use a binary search algorithm.\n",
    "The algorithm will have a runtime complexity of O(log n). Here's the step-by-step approach:"
   ]
  },
  {
   "cell_type": "code",
   "execution_count": 34,
   "id": "f47b605d-dc77-443a-be99-248e6a27118a",
   "metadata": {},
   "outputs": [
    {
     "name": "stdout",
     "output_type": "stream",
     "text": [
      "2\n"
     ]
    }
   ],
   "source": [
    "nums = [1, 3, 5, 6]\n",
    "target = 5\n",
    "def searchInsert(nums, target):\n",
    "    left = 0\n",
    "    right = len(nums) - 1\n",
    "\n",
    "    while left <= right:\n",
    "        mid = (left + right) // 2\n",
    "\n",
    "        if nums[mid] == target:\n",
    "            return mid\n",
    "        elif nums[mid] < target:\n",
    "            left = mid + 1\n",
    "        else:\n",
    "            right = mid - 1\n",
    "    return left\n",
    "index = searchInsert(nums, target)\n",
    "print(index)"
   ]
  },
  {
   "cell_type": "code",
   "execution_count": 2,
   "id": "1f7bb801-925f-4d81-9d5a-9503f582aa94",
   "metadata": {},
   "outputs": [
    {
     "name": "stdout",
     "output_type": "stream",
     "text": [
      "[1, 2, 4]\n"
     ]
    }
   ],
   "source": [
    "#Answer5\n",
    "digits = [1,2,3]\n",
    "def plusOne(digits):\n",
    "    carry = 1\n",
    "    n = len(digits)\n",
    "\n",
    "    for i in range(n - 1, -1, -1):\n",
    "        digits[i] += carry\n",
    "        carry = digits[i] // 10\n",
    "        digits[i] %= 10\n",
    "\n",
    "        if carry == 0:\n",
    "            break\n",
    "\n",
    "    if carry == 1:\n",
    "        digits.insert(0, 1)\n",
    "\n",
    "    return digits\n",
    "result = plusOne(digits)\n",
    "print(result)"
   ]
  },
  {
   "cell_type": "markdown",
   "id": "42f203a0-f8b8-4278-9901-5f1975aefc08",
   "metadata": {},
   "source": [
    "#Answer6\n",
    "To find the single element in an array where every other element appears twice, we can utilize the XOR operation.\n",
    "The XOR operation (represented by ^ in most programming languages) returns 0 when applied to two equal values and \n",
    "returns the value itself when applied to two different values.\n",
    "\n",
    "Here's the step-by-step approach:"
   ]
  },
  {
   "cell_type": "code",
   "execution_count": 3,
   "id": "b729df50-9883-4f7f-9ce1-3f8dedf6d703",
   "metadata": {},
   "outputs": [
    {
     "name": "stdout",
     "output_type": "stream",
     "text": [
      "1\n"
     ]
    }
   ],
   "source": [
    "nums = [2, 2, 1]\n",
    "def singleNumber(nums):\n",
    "    result = 0\n",
    "    for num in nums:\n",
    "        result ^= num\n",
    "    return result\n",
    "result = singleNumber(nums)\n",
    "print(result)"
   ]
  },
  {
   "cell_type": "markdown",
   "id": "06ca4333-a10d-4caa-b9b6-45d09e9ce675",
   "metadata": {},
   "source": [
    "#Answer7\n",
    "To find the shortest sorted list of ranges that covers the missing numbers within a given range,\n",
    "we can iterate through the range [lower, upper] and check for missing numbers. As we find missing numbers,\n",
    "we can track the start and end of each range."
   ]
  },
  {
   "cell_type": "code",
   "execution_count": 6,
   "id": "891d6e92-baa0-42f2-b6a8-e1883784c12c",
   "metadata": {},
   "outputs": [
    {
     "name": "stdout",
     "output_type": "stream",
     "text": [
      "[[2, 2], [4, 49], [51, 74], [76, 99]]\n"
     ]
    }
   ],
   "source": [
    "nums = [0, 1, 3, 50, 75]\n",
    "lower = 0\n",
    "upper = 99\n",
    "def findmissingranges(nums,lower,upper):\n",
    "    result = []\n",
    "    start=lower\n",
    "    \n",
    "    for num in nums + [upper+1]:\n",
    "        if num == start:\n",
    "            start += 1\n",
    "        elif num > start :\n",
    "            end = num - 1\n",
    "            result.append([start,end])\n",
    "            start =  num +1\n",
    "    return result\n",
    "result = findmissingranges(nums, lower, upper)\n",
    "print(result)"
   ]
  },
  {
   "cell_type": "markdown",
   "id": "8d77ef19-ff30-4514-b018-c29a4fd8fa7d",
   "metadata": {},
   "source": [
    "#Answer8\n",
    "To determine if a person could attend all meetings, we need to check if there are any overlapping intervals.\n",
    "If there are no overlaps, it means that the person can attend all the meetings without any conflicts."
   ]
  },
  {
   "cell_type": "code",
   "execution_count": 7,
   "id": "3aeb68f0-f8e0-49bf-aff1-574b66d86678",
   "metadata": {},
   "outputs": [
    {
     "name": "stdout",
     "output_type": "stream",
     "text": [
      "False\n"
     ]
    }
   ],
   "source": [
    "intervals = [[0, 30], [5, 10], [15, 20]]\n",
    "def canAttendMeetings(intervals):\n",
    "    intervals.sort(key=lambda x: x[0])  # Sort intervals based on start time\n",
    "\n",
    "    for i in range(1, len(intervals)):\n",
    "        if intervals[i][0] < intervals[i-1][1]:\n",
    "            return False\n",
    "\n",
    "    return True\n",
    "result = canAttendMeetings(intervals)\n",
    "print(result)"
   ]
  },
  {
   "cell_type": "code",
   "execution_count": null,
   "id": "e5996a10-3b61-4ae1-9b3b-f4d58b7c782b",
   "metadata": {},
   "outputs": [],
   "source": []
  }
 ],
 "metadata": {
  "kernelspec": {
   "display_name": "Python 3 (ipykernel)",
   "language": "python",
   "name": "python3"
  },
  "language_info": {
   "codemirror_mode": {
    "name": "ipython",
    "version": 3
   },
   "file_extension": ".py",
   "mimetype": "text/x-python",
   "name": "python",
   "nbconvert_exporter": "python",
   "pygments_lexer": "ipython3",
   "version": "3.10.8"
  }
 },
 "nbformat": 4,
 "nbformat_minor": 5
}
