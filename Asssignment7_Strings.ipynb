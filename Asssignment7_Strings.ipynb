{
 "cells": [
  {
   "cell_type": "markdown",
   "id": "211b9d2a-bfc9-47f7-9c36-a8c62f738fb4",
   "metadata": {},
   "source": [
    "#Answer1\n",
    "To determine if two strings s and t are isomorphic, we can compare the mappings of characters from s to t and vice versa.\n",
    "If the mappings are consistent in both directions, the strings are isomorphic."
   ]
  },
  {
   "cell_type": "code",
   "execution_count": 1,
   "id": "119bef70-19de-4f9f-865d-50f848c6b618",
   "metadata": {},
   "outputs": [
    {
     "name": "stdout",
     "output_type": "stream",
     "text": [
      "True\n"
     ]
    }
   ],
   "source": [
    "s= \"egg\"\n",
    "t = \"add\"\n",
    "def isIsomorphic(s, t):\n",
    "    if len(s) != len(t):\n",
    "        return False\n",
    "\n",
    "    s_to_t = {}\n",
    "    t_to_s = {}\n",
    "\n",
    "    for i in range(len(s)):\n",
    "        char_s, char_t = s[i], t[i]\n",
    "\n",
    "        if char_s in s_to_t and s_to_t[char_s] != char_t:\n",
    "            return False\n",
    "\n",
    "        if char_t in t_to_s and t_to_s[char_t] != char_s:\n",
    "            return False\n",
    "\n",
    "        s_to_t[char_s] = char_t\n",
    "        t_to_s[char_t] = char_s\n",
    "\n",
    "    return True\n",
    "print(isIsomorphic(s,t))"
   ]
  },
  {
   "cell_type": "markdown",
   "id": "f615ddf6-b9df-4256-8d17-b62a369ab664",
   "metadata": {},
   "source": [
    "#Answer2\n",
    "To determine if a given number num is a strobogrammatic number, we can compare each pair of corresponding digits from \n",
    "the beginning and end of the number. If all the pairs are strobogrammatic, the number is a strobogrammatic number."
   ]
  },
  {
   "cell_type": "code",
   "execution_count": 3,
   "id": "f9870829-9865-4cd0-9fd8-70ebede4ed00",
   "metadata": {},
   "outputs": [
    {
     "name": "stdout",
     "output_type": "stream",
     "text": [
      "True\n"
     ]
    }
   ],
   "source": [
    "num = \"69\"\n",
    "def isStrobogrammatic(num):\n",
    "    strobogrammatic_pairs = {'0': '0', '1': '1', '6': '9', '8': '8', '9': '6'}\n",
    "\n",
    "    left, right = 0, len(num) - 1\n",
    "\n",
    "    while left <= right:\n",
    "        if num[left] not in strobogrammatic_pairs or num[right] != strobogrammatic_pairs[num[left]]:\n",
    "            return False\n",
    "\n",
    "        left += 1\n",
    "        right -= 1\n",
    "\n",
    "    return True\n",
    "is_strobogrammatic = isStrobogrammatic(num)\n",
    "print(is_strobogrammatic)"
   ]
  },
  {
   "cell_type": "markdown",
   "id": "f38dadce-81a3-4854-901d-b30a2deb3c4b",
   "metadata": {},
   "source": [
    "#Answer3\n",
    "To add two non-negative integers num1 and num2 represented as strings, \n",
    "we can perform digit-by-digit addition using the concept of elementary addition."
   ]
  },
  {
   "cell_type": "code",
   "execution_count": 6,
   "id": "60df1c47-a7cb-4883-9bc3-105a5d817e19",
   "metadata": {},
   "outputs": [
    {
     "name": "stdout",
     "output_type": "stream",
     "text": [
      "134\n"
     ]
    }
   ],
   "source": [
    "num1 = \"11\"\n",
    "num2 = \"123\"\n",
    "def addStrings(num1, num2):\n",
    "    result = []\n",
    "    carry = 0\n",
    "    i, j = len(num1) - 1, len(num2) - 1\n",
    "\n",
    "    while i >= 0 or j >= 0 or carry > 0:\n",
    "        digit1 = int(num1[i]) if i >= 0 else 0\n",
    "        digit2 = int(num2[j]) if j >= 0 else 0\n",
    "\n",
    "        current_sum = digit1 + digit2 + carry\n",
    "        carry = current_sum // 10\n",
    "        digit_sum = current_sum % 10\n",
    "\n",
    "        result.append(str(digit_sum))\n",
    "\n",
    "        i -= 1\n",
    "        j -= 1\n",
    "\n",
    "    return ''.join(result[::-1])\n",
    "sum_str = addStrings(num1, num2)\n",
    "print(sum_str)"
   ]
  },
  {
   "cell_type": "code",
   "execution_count": 13,
   "id": "64ef8436-36f1-4da4-8547-9071be668f28",
   "metadata": {},
   "outputs": [
    {
     "name": "stdout",
     "output_type": "stream",
     "text": [
      "s'teL ekat edoCteeL tsetnoc\n"
     ]
    }
   ],
   "source": [
    "#Answer4\n",
    "#To achieve the minimum time and space complexity, we can use a two-pointer approach to reverse the characters in each word within the sentence in-place.\n",
    "s = \"Let's take LeetCode contest\"\n",
    "def reverseWords(s):\n",
    "    sentence = list(s) \n",
    "    start = 0  \n",
    "    # Iterate through the sentence\n",
    "    for i in range(len(sentence)):\n",
    "        if sentence[i] == ' ' or i == len(sentence) - 1:\n",
    "            # Reverse the characters within the word\n",
    "            left = start\n",
    "            right = i - 1 if sentence[i] == ' ' else i\n",
    "\n",
    "            while left < right:\n",
    "                sentence[left], sentence[right] = sentence[right], sentence[left]\n",
    "                left += 1\n",
    "                right -= 1\n",
    "\n",
    "            # Move the start pointer to the next word\n",
    "            start = i + 1\n",
    "\n",
    "    return ''.join(sentence)  # Convert the list back to a string\n",
    "result = reverseWords(s)\n",
    "print(result)"
   ]
  },
  {
   "cell_type": "markdown",
   "id": "684939d4-be34-4ee9-96b3-d50d3a7e45b4",
   "metadata": {},
   "source": [
    "#Answer5\n",
    "To reverse the first k characters for every 2k characters counting from the start of the string s,\n",
    "we can use a sliding window approach. We will iterate through the string and reverse the characters within each window of size k."
   ]
  },
  {
   "cell_type": "code",
   "execution_count": 14,
   "id": "d89c3e7b-d6bb-465b-8877-912ab5db3fdb",
   "metadata": {},
   "outputs": [
    {
     "name": "stdout",
     "output_type": "stream",
     "text": [
      "bacdfeg\n"
     ]
    }
   ],
   "source": [
    "s =  \"abcdefg\"\n",
    "k = 2\n",
    "def reverseStr(s, k):\n",
    "    s = list(s)  # Convert the string to a list of characters\n",
    "    n = len(s)\n",
    "\n",
    "    for i in range(0, n, 2 * k):\n",
    "        left = i\n",
    "        right = min(i + k - 1, n - 1)\n",
    "\n",
    "        # Reverse the characters within the window\n",
    "        while left < right:\n",
    "            s[left], s[right] = s[right], s[left]\n",
    "            left += 1\n",
    "            right -= 1\n",
    "\n",
    "    return ''.join(s)  # Convert the list back to a string\n",
    "result = reverseStr(s,k)\n",
    "print(result)"
   ]
  },
  {
   "cell_type": "markdown",
   "id": "a1f4c842-181b-4532-8776-97eec82591ef",
   "metadata": {},
   "source": [
    "#Answer6\n",
    "To achieve minimum time and space complexity, we can use the Knuth-Morris-Pratt (KMP) algorithm \n",
    "to search for goal in the concatenated string of s with itself."
   ]
  },
  {
   "cell_type": "code",
   "execution_count": 21,
   "id": "218cf3a2-9d11-466c-911e-c7981fc8db90",
   "metadata": {},
   "outputs": [
    {
     "name": "stdout",
     "output_type": "stream",
     "text": [
      "True\n"
     ]
    }
   ],
   "source": [
    "s = \"abcde\"\n",
    "goal = \"cdeab\"\n",
    "def buildPrefixTable(pattern):\n",
    "    prefix_table = [0] * len(pattern)\n",
    "    j = 0\n",
    "\n",
    "    for i in range(1, len(pattern)):\n",
    "        if pattern[i] == pattern[j]:\n",
    "            j += 1\n",
    "            prefix_table[i] = j\n",
    "        else:\n",
    "            while j > 0 and pattern[i] != pattern[j]:\n",
    "                j = prefix_table[j - 1]\n",
    "            if pattern[i] == pattern[j]:\n",
    "                j += 1\n",
    "                prefix_table[i] = j\n",
    "\n",
    "    return prefix_table\n",
    "\n",
    "\n",
    "def rotateString(s, goal):\n",
    "    if len(s) != len(goal):\n",
    "        return False\n",
    "\n",
    "    rotated = s + s\n",
    "    prefix_table = buildPrefixTable(goal)\n",
    "\n",
    "    j = 0\n",
    "    for i in range(len(rotated)):\n",
    "        while j > 0 and rotated[i] != goal[j]:\n",
    "            j = prefix_table[j - 1]\n",
    "        if rotated[i] == goal[j]:\n",
    "            j += 1\n",
    "            if j == len(goal):\n",
    "                return True\n",
    "\n",
    "    return False\n",
    "print(rotateString(s, goal))"
   ]
  },
  {
   "cell_type": "markdown",
   "id": "838ebd77-52bd-46dc-b563-0d4dc3cc20eb",
   "metadata": {},
   "source": [
    "#Answer7\n",
    "To achieve minimum time and space complexity, we can use a two-pointer approach to compare the strings s and t in reverse order.\n",
    "This avoids the need to build intermediate processed strings."
   ]
  },
  {
   "cell_type": "code",
   "execution_count": 22,
   "id": "51323377-3a2e-4b33-8076-0a7415af6ecc",
   "metadata": {},
   "outputs": [
    {
     "name": "stdout",
     "output_type": "stream",
     "text": [
      "True\n"
     ]
    }
   ],
   "source": [
    "s = \"ab#c\"\n",
    "t = \"ad#c\"\n",
    "def backspaceCompare(s, t):\n",
    "    def getPreviousCharIndex(string, index):\n",
    "        backspace_count = 0\n",
    "        while index >= 0:\n",
    "            if string[index] == '#':\n",
    "                backspace_count += 1\n",
    "            elif backspace_count > 0:\n",
    "                backspace_count -= 1\n",
    "            else:\n",
    "                return index\n",
    "            index -= 1\n",
    "        return -1\n",
    "\n",
    "    i = len(s) - 1\n",
    "    j = len(t) - 1\n",
    "\n",
    "    while i >= 0 or j >= 0:\n",
    "        i = getPreviousCharIndex(s, i)\n",
    "        j = getPreviousCharIndex(t, j)\n",
    "\n",
    "        if (i < 0 and j >= 0) or (j < 0 and i >= 0):\n",
    "            return False\n",
    "\n",
    "        if i >= 0 and j >= 0 and s[i] != t[j]:\n",
    "            return False\n",
    "\n",
    "        i -= 1\n",
    "        j -= 1\n",
    "\n",
    "    return True\n",
    "result = backspaceCompare(s, t)\n",
    "print(result)"
   ]
  },
  {
   "cell_type": "markdown",
   "id": "aab033f9-f349-43a1-a80a-97b280957546",
   "metadata": {},
   "source": [
    "#Answer8\n",
    "To check if the given coordinates make a straight line in the XY plane, we can calculate the slope between each pair of consecutive points and check if all the slopes are equal. If the slopes are equal, the points lie on the same straight line."
   ]
  },
  {
   "cell_type": "code",
   "execution_count": 23,
   "id": "92330fe0-9211-41dd-92dc-efa96d4929e0",
   "metadata": {},
   "outputs": [
    {
     "name": "stdout",
     "output_type": "stream",
     "text": [
      "True\n"
     ]
    }
   ],
   "source": [
    "coordinates = [[1, 2], [2, 3], [3, 4], [4, 5], [5, 6], [6, 7]]\n",
    "def checkStraightLine(coordinates):\n",
    "    if len(coordinates) <= 2:\n",
    "        return True\n",
    "\n",
    "    x1, y1 = coordinates[0]\n",
    "    x2, y2 = coordinates[1]\n",
    "\n",
    "    for i in range(2, len(coordinates)):\n",
    "        x, y = coordinates[i]\n",
    "        # Calculate the slope between (x1, y1) and (x2, y2)\n",
    "        # slope = (y2 - y1) / (x2 - x1)\n",
    "        if (y2 - y1) * (x - x1) != (x2 - x1) * (y - y1):\n",
    "            return False\n",
    "\n",
    "    return True\n",
    "\n",
    "result = checkStraightLine(coordinates)\n",
    "print(result)"
   ]
  },
  {
   "cell_type": "code",
   "execution_count": null,
   "id": "3310677f-687e-446b-a041-badfff631dbe",
   "metadata": {},
   "outputs": [],
   "source": []
  }
 ],
 "metadata": {
  "kernelspec": {
   "display_name": "Python 3 (ipykernel)",
   "language": "python",
   "name": "python3"
  },
  "language_info": {
   "codemirror_mode": {
    "name": "ipython",
    "version": 3
   },
   "file_extension": ".py",
   "mimetype": "text/x-python",
   "name": "python",
   "nbconvert_exporter": "python",
   "pygments_lexer": "ipython3",
   "version": "3.10.8"
  }
 },
 "nbformat": 4,
 "nbformat_minor": 5
}
