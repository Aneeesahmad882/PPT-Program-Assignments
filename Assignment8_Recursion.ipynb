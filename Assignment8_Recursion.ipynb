{
 "cells": [
  {
   "cell_type": "code",
   "execution_count": 2,
   "id": "8f2822cb-7bb9-4fc3-af58-27f6017b5072",
   "metadata": {},
   "outputs": [
    {
     "name": "stdout",
     "output_type": "stream",
     "text": [
      "231\n"
     ]
    }
   ],
   "source": [
    "#Answer1\n",
    "s1 = \"sea\"\n",
    "s2 = \"eat\"\n",
    "def minimumDeleteSum(s1, s2):\n",
    "    m, n = len(s1), len(s2)\n",
    "    \n",
    "    # Initialize the 1D array with 0s\n",
    "    dp = [0] * (n + 1)\n",
    "    \n",
    "    # Fill in the base case\n",
    "    for j in range(1, n + 1):\n",
    "        dp[j] = dp[j-1] + ord(s2[j-1])\n",
    "        \n",
    "    # Fill in the rest of the array\n",
    "    for i in range(1, m + 1):\n",
    "        prev = dp[0]  # Store the value of the previous row's first column\n",
    "        dp[0] += ord(s1[i-1])  # Update the current row's first column\n",
    "        \n",
    "        for j in range(1, n + 1):\n",
    "            temp = dp[j]  # Store the current value before updating\n",
    "            \n",
    "            if s1[i-1] == s2[j-1]:\n",
    "                dp[j] = prev\n",
    "            else:\n",
    "                dp[j] = min(dp[j] + ord(s1[i-1]), dp[j-1] + ord(s2[j-1]))\n",
    "            \n",
    "            prev = temp  # Update the previous value for the next iteration\n",
    "    \n",
    "    return dp[n]\n",
    "print(minimumDeleteSum(s1, s2))"
   ]
  },
  {
   "cell_type": "markdown",
   "id": "512bebc4-b1b4-4703-a7e2-b78c3aef6269",
   "metadata": {},
   "source": [
    "#Answer2\n",
    "Let's define two variables, minOpen and maxOpen, to represent the minimum and \n",
    "maximum number of open parentheses required to make the string valid."
   ]
  },
  {
   "cell_type": "code",
   "execution_count": 4,
   "id": "56d8119a-a7e5-41e1-8924-55b02248ff1c",
   "metadata": {},
   "outputs": [
    {
     "name": "stdout",
     "output_type": "stream",
     "text": [
      "True\n"
     ]
    }
   ],
   "source": [
    "s = \"()\"\n",
    "def isvalid(s):\n",
    "    minopen = 0\n",
    "    maxopen = 0\n",
    "    \n",
    "    for char in s :\n",
    "        if char == '(':\n",
    "            minopen += 1\n",
    "            maxopen += 1\n",
    "        elif char == ')':\n",
    "            minopen = max(0,minopen-1)\n",
    "            maxopen -= 1\n",
    "        elif char == '*':\n",
    "            minopen = max(0,minopen-1)\n",
    "            maxopen += 1\n",
    "        if maxopen < 0:\n",
    "            return False\n",
    "    return minopen == 0\n",
    "result = isvalid(s)\n",
    "print(result)"
   ]
  },
  {
   "cell_type": "markdown",
   "id": "5ed1eef7-a44d-46ac-ac3a-0c17dcf7f3b3",
   "metadata": {},
   "source": [
    "#Answer3\n",
    "To optimize the solution for both time and space complexity, we can reduce the space requirement from a 2D array to a 1D array.\n",
    "\n",
    "We only need to keep track of the previous row's values in the 2D array to calculate the current row.\n",
    "Therefore, we can use a 1D array of size n+1, where n is the length of word2. We update the array row by row, \n",
    "and for each row, we only need the values from the previous row."
   ]
  },
  {
   "cell_type": "code",
   "execution_count": 1,
   "id": "73b959eb-b9de-4e44-8582-50d1f2041849",
   "metadata": {},
   "outputs": [
    {
     "name": "stdout",
     "output_type": "stream",
     "text": [
      "2\n"
     ]
    }
   ],
   "source": [
    "word1 = \"sea\"\n",
    "word2 = \"eat\"\n",
    "def minSteps(word1, word2):\n",
    "    m, n = len(word1), len(word2)\n",
    "    \n",
    "    # Initialize the 1D array with indices 0 to n\n",
    "    dp = list(range(n + 1))\n",
    "    \n",
    "    for i in range(1, m + 1):\n",
    "        prev = dp[0]  # Store the value of the previous row's first column\n",
    "        dp[0] = i\n",
    "        \n",
    "        for j in range(1, n + 1):\n",
    "            temp = dp[j]  # Store the current value before updating\n",
    "            \n",
    "            if word1[i-1] == word2[j-1]:\n",
    "                dp[j] = prev\n",
    "            else:\n",
    "                dp[j] = min(dp[j] + 1, dp[j-1] + 1)\n",
    "            \n",
    "            prev = temp  # Update the previous value for the next iteration\n",
    "    \n",
    "    return dp[n]\n",
    "print(minSteps(word1,word2))"
   ]
  },
  {
   "cell_type": "markdown",
   "id": "9ab6205e-e0e6-46ab-9127-3ca45cfa531a",
   "metadata": {},
   "source": [
    "#Answer4\n",
    "\n",
    "To construct a binary tree from the given string representation, we can use a recursive approach.\n",
    "\n",
    "We start by creating a TreeNode with the root value. Then, we recursively construct the left and right children by identifying the substrings within the parentheses."
   ]
  },
  {
   "cell_type": "code",
   "execution_count": 9,
   "id": "67b107eb-e843-4af1-a137-96f95e1dff2e",
   "metadata": {},
   "outputs": [
    {
     "name": "stdout",
     "output_type": "stream",
     "text": [
      "[4, 2, 3, 1, 6, 5]\n"
     ]
    }
   ],
   "source": [
    "class TreeNode:\n",
    "    def __init__(self, val=0, left=None, right=None):\n",
    "        self.val = val\n",
    "        self.left = left\n",
    "        self.right = right\n",
    "\n",
    "def constructTree(s):\n",
    "    if not s:\n",
    "        return None\n",
    "    \n",
    "    stack = []\n",
    "    i = 0\n",
    "    \n",
    "    while i < len(s):\n",
    "        if s[i].isdigit() or s[i] == '-':\n",
    "            # Find the value of the current node\n",
    "            j = i\n",
    "            while i < len(s) and (s[i].isdigit() or s[i] == '-'):\n",
    "                i += 1\n",
    "            val = int(s[j:i])\n",
    "            \n",
    "            node = TreeNode(val)\n",
    "            \n",
    "            if stack:\n",
    "                parent = stack[-1]\n",
    "                if not parent.left:\n",
    "                    parent.left = node\n",
    "                else:\n",
    "                    parent.right = node\n",
    "            \n",
    "            stack.append(node)\n",
    "        \n",
    "        elif s[i] == '(':\n",
    "            i += 1\n",
    "        \n",
    "        elif s[i] == ')':\n",
    "            stack.pop()\n",
    "            i += 1\n",
    "    \n",
    "    return serializeBinaryTree(stack[0]) if stack else None\n",
    "def serializeBinaryTree(root):\n",
    "    result = []\n",
    "    \n",
    "    def serializeHelper(node):\n",
    "        if not node:\n",
    "            return\n",
    "        \n",
    "        result.append(node.val)\n",
    "        \n",
    "        serializeHelper(node.left)\n",
    "        serializeHelper(node.right)\n",
    "    \n",
    "    serializeHelper(root)\n",
    "    return result\n",
    "s = \"4(2(3)(1))(6(5))\"\n",
    "result = constructTree(s)\n",
    "print(result)"
   ]
  },
  {
   "cell_type": "markdown",
   "id": "300051ee-c86e-43bc-b89c-ecb876651592",
   "metadata": {},
   "source": [
    "#Answer5\n",
    "To compress the given array of characters chars in-place, we can use two pointers: write and read. The write pointer keeps track of the current position where we are writing the compressed characters, and the read pointer scans through the original array to identify the consecutive repeating characters.\n",
    "\n",
    "Here's the implementation that compresses the array in-place and returns the new length:"
   ]
  },
  {
   "cell_type": "code",
   "execution_count": 20,
   "id": "00e6e807-923b-4abe-90d4-076ace78c28a",
   "metadata": {},
   "outputs": [
    {
     "name": "stdout",
     "output_type": "stream",
     "text": [
      "['a', '2', 'b', '2', 'c', '3']\n",
      "6\n"
     ]
    }
   ],
   "source": [
    "chars = ['a', 'a', 'b', 'b', 'c', 'c', 'c']\n",
    "new_length = compress(chars)\n",
    "def compress(chars):\n",
    "    write = 0\n",
    "    count = 1\n",
    "    \n",
    "    for i in range (1,len(chars)):\n",
    "        if chars[i] == chars[i-1]:\n",
    "            count += 1\n",
    "        else :\n",
    "                chars[write]= chars[i-1]\n",
    "                    \n",
    "                if count > 1:\n",
    "                    for c in str(count):\n",
    "                        write += 1\n",
    "                        chars[write] = c\n",
    "                write += 1\n",
    "                count = 1\n",
    "                    \n",
    "                    \n",
    "    chars[write] = chars[-1]\n",
    "                    \n",
    "    if count > 1 :\n",
    "        for c in str(count):\n",
    "                write += 1\n",
    "                chars[write] = c\n",
    "    return write + 1\n",
    "print(chars[:new_length])\n",
    "print(new_length) "
   ]
  },
  {
   "cell_type": "markdown",
   "id": "ed4a30de-f8ad-43ab-8f69-760d59addbb0",
   "metadata": {},
   "source": [
    "#Answer6\n",
    "\n",
    "To find all the start indices of anagrams of string p in string s, we can use the sliding window technique along with a sliding window of the same size as p.\n",
    "\n",
    "Here's the implementation with minimum time and space complexity:"
   ]
  },
  {
   "cell_type": "code",
   "execution_count": 21,
   "id": "f4f15c91-f58f-4693-a8e2-eb5073bffe8f",
   "metadata": {},
   "outputs": [
    {
     "name": "stdout",
     "output_type": "stream",
     "text": [
      "[0, 6]\n"
     ]
    }
   ],
   "source": [
    "s = \"cbaebabacd\"\n",
    "p = \"abc\"\n",
    "from collections import Counter\n",
    "\n",
    "def findAnagrams(s, p):\n",
    "    p_count = Counter(p)  # Count of characters in p\n",
    "    window_count = Counter()  # Count of characters in the sliding window\n",
    "    result = []  # List to store the start indices of anagrams\n",
    "    \n",
    "    # Initialize the sliding window\n",
    "    window_start = 0\n",
    "    window_size = len(p)\n",
    "    \n",
    "    # Initialize the sliding window count\n",
    "    for i in range(window_start, window_start + window_size):\n",
    "        window_count[s[i]] += 1\n",
    "    \n",
    "    # Check each window in s\n",
    "    while window_start <= len(s) - window_size:\n",
    "        # Compare the counts of characters in the window and p\n",
    "        if window_count == p_count:\n",
    "            result.append(window_start)\n",
    "        \n",
    "        # Move the sliding window\n",
    "        window_count[s[window_start]] -= 1\n",
    "        if window_count[s[window_start]] == 0:\n",
    "            del window_count[s[window_start]]\n",
    "        \n",
    "        window_start += 1\n",
    "        if window_start + window_size <= len(s):\n",
    "            window_count[s[window_start + window_size - 1]] += 1\n",
    "    \n",
    "    return result\n",
    "result = findAnagrams(s, p)\n",
    "print(result)"
   ]
  },
  {
   "cell_type": "markdown",
   "id": "87bd6458-f6a4-4d68-af28-49a998f06b61",
   "metadata": {},
   "source": [
    "#Answer7\n",
    "To decode the given encoded string, we can use a stack to keep track of the characters and the count of repetitions."
   ]
  },
  {
   "cell_type": "code",
   "execution_count": 24,
   "id": "e9745af0-7f8e-4af3-a7e8-3054f88057d8",
   "metadata": {},
   "outputs": [
    {
     "name": "stdout",
     "output_type": "stream",
     "text": [
      "aaabcbc\n"
     ]
    }
   ],
   "source": [
    "s = \"3[a]2[bc]\"\n",
    "def decodeString(s):\n",
    "    stack = []\n",
    "    \n",
    "    for char in s:\n",
    "        if char == ']':\n",
    "            # Pop characters until '[' is encountered\n",
    "            decoded_string = ''\n",
    "            while stack[-1] != '[':\n",
    "                decoded_string = stack.pop() + decoded_string\n",
    "            \n",
    "            stack.pop()  # Pop '['\n",
    "            \n",
    "            # Get the count of repetitions\n",
    "            count = ''\n",
    "            while stack and stack[-1].isdigit():\n",
    "                count = stack.pop() + count\n",
    "            \n",
    "            decoded_string *= int(count)  # Repeat the decoded string\n",
    "            \n",
    "            # Push the decoded string back to the stack\n",
    "            for c in decoded_string:\n",
    "                stack.append(c)\n",
    "        \n",
    "        else:\n",
    "            stack.append(char)  # Push non-']' characters to the stack\n",
    "    \n",
    "    return ''.join(stack)\n",
    "print(decodeString(s))"
   ]
  },
  {
   "cell_type": "markdown",
   "id": "e282fdd4-2012-438a-ba06-20be1c47eba5",
   "metadata": {},
   "source": [
    "#Answer8\n",
    "\n",
    "To achieve minimum time and space complexity, we can iterate over both strings simultaneously and perform the required checks in a single pass."
   ]
  },
  {
   "cell_type": "code",
   "execution_count": 25,
   "id": "8d40a844-7a92-44c7-8438-7e6935a735e2",
   "metadata": {},
   "outputs": [
    {
     "name": "stdout",
     "output_type": "stream",
     "text": [
      "True\n"
     ]
    }
   ],
   "source": [
    "s = \"ab\"\n",
    "goal = \"ba\"\n",
    "def buddyStrings(s, goal):\n",
    "    if len(s) != len(goal):\n",
    "        return False\n",
    "    \n",
    "    if s == goal:\n",
    "        # Check if s has any repeated characters\n",
    "        seen = set()\n",
    "        for char in s:\n",
    "            if char in seen:\n",
    "                return True\n",
    "            seen.add(char)\n",
    "        \n",
    "        return False\n",
    "    \n",
    "    mismatched = []\n",
    "    \n",
    "    for i in range(len(s)):\n",
    "        if s[i] != goal[i]:\n",
    "            mismatched.append(i)\n",
    "        \n",
    "        if len(mismatched) > 2:\n",
    "            return False\n",
    "    \n",
    "    if len(mismatched) != 2:\n",
    "        return False\n",
    "    \n",
    "    return s[mismatched[0]] == goal[mismatched[1]] and s[mismatched[1]] == goal[mismatched[0]]\n",
    "result = buddyStrings(s,goal)\n",
    "print(result)"
   ]
  },
  {
   "cell_type": "code",
   "execution_count": null,
   "id": "09359ec6-90c3-47c1-a7d9-542dc9c060e9",
   "metadata": {},
   "outputs": [],
   "source": []
  }
 ],
 "metadata": {
  "kernelspec": {
   "display_name": "Python 3 (ipykernel)",
   "language": "python",
   "name": "python3"
  },
  "language_info": {
   "codemirror_mode": {
    "name": "ipython",
    "version": 3
   },
   "file_extension": ".py",
   "mimetype": "text/x-python",
   "name": "python",
   "nbconvert_exporter": "python",
   "pygments_lexer": "ipython3",
   "version": "3.10.8"
  }
 },
 "nbformat": 4,
 "nbformat_minor": 5
}
